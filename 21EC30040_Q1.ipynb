{
  "nbformat": 4,
  "nbformat_minor": 0,
  "metadata": {
    "colab": {
      "provenance": []
    },
    "kernelspec": {
      "name": "python3",
      "display_name": "Python 3"
    },
    "language_info": {
      "name": "python"
    }
  },
  "cells": [
    {
      "cell_type": "code",
      "source": [
        "def is_valid_move(maze, visited, row, col):\n",
        "    rows, cols = len(maze), len(maze[0])\n",
        "    return 0 <= row < rows and 0 <= col < cols and maze[row][col] == 1 and not visited[row][col]\n",
        "\n",
        "def bfs_navigation(maze, start, end, all_directions):\n",
        "    rows, cols = len(maze), len(maze[0])\n",
        "    visited = [[False for _ in range(cols)] for _ in range(rows)]\n",
        "\n",
        "    directions = [(0, 1), (1, 0), (0, -1), (-1, 0)]\n",
        "    if all_directions:\n",
        "        directions.extend([(1, 1), (1, -1), (-1, 1), (-1, -1)])\n",
        "\n",
        "    queue = [(start, [])]\n",
        "    visited[start[0]][start[1]] = True\n",
        "    while queue:\n",
        "        (row, col), path = queue.pop(0)\n",
        "\n",
        "        if (row, col) == end:\n",
        "            path.append((row, col))\n",
        "            return True, path\n",
        "\n",
        "        for dr, dc in directions:\n",
        "            new_row, new_col = row + dr, col + dc\n",
        "            if is_valid_move(maze, visited, new_row, new_col):\n",
        "                visited[new_row][new_col] = True\n",
        "                queue.append(((new_row, new_col), path + [(row, col)]))\n",
        "\n",
        "    return False, []\n",
        "\n",
        "\n",
        "if __name__ == \"__main__\":\n",
        "    # User input for rows and columns\n",
        "    M = int(input(\"Enter the number of rows: \"))\n",
        "    N = int(input(\"Enter the number of columns: \"))\n",
        "\n",
        "    # User input maze\n",
        "    maze = []\n",
        "    print(\"Enter the entries one row at a time: \")\n",
        "    for i in range(M):\n",
        "        temp = input(f\"row {i} : \").split(\" \")\n",
        "        a = []\n",
        "        for j in range(N):\n",
        "             a.append(int(temp[j]))\n",
        "        maze.append(a)\n",
        "\n",
        "    # User input start and end index\n",
        "    start_input = input('Enter space-separated start indices: ').split(\" \")\n",
        "    start = tuple(int(item) for item in start_input)\n",
        "\n",
        "    end_input = input('Enter space-separated start indices: ').split(\" \")\n",
        "    end = tuple(int(item) for item in end_input)\n",
        "\n",
        "    # User input start and end indices\n",
        "    all_directions_input = input('Enter the value of all directions\\ni)True - for all 8 directions\\nii)False - for only the 4 directions\\n').upper()\n",
        "    all_directions = False\n",
        "    if all_directions_input == \"TRUE\":\n",
        "        all_directions = True\n",
        "\n",
        "    # Call the BFS function and print the result\n",
        "    result_reachable, final_result_path = bfs_navigation(maze, start, end, all_directions)\n",
        "    print(\"end point reachable:\", result_reachable)\n",
        "    print(\"Navigation plan:\", final_result_path)"
      ],
      "metadata": {
        "colab": {
          "base_uri": "https://localhost:8080/"
        },
        "id": "xSNt_lfSol7b",
        "outputId": "8b655ee6-b00a-47df-af98-728a93d03cd8"
      },
      "execution_count": 42,
      "outputs": [
        {
          "output_type": "stream",
          "name": "stdout",
          "text": [
            "Enter the number of rows: 4\n",
            "Enter the number of columns: 5\n",
            "Enter the entries one row at a time: \n",
            "row 0 : 1 1 1 1 1\n",
            "row 1 : 1 0 0 0 1\n",
            "row 2 : 1 0 1 1 1\n",
            "row 3 : 0 1 1 1 1\n",
            "Enter space-separated start indices: 0 0\n",
            "Enter space-separated start indices: 3 2\n",
            "Enter the value of all directions\n",
            "i)True - for all 8 directions\n",
            "ii)False - for only the 4 directions\n",
            "True\n",
            "end point reachable: True\n",
            "Navigation plan: [(0, 0), (1, 0), (2, 0), (3, 1), (3, 2)]\n"
          ]
        }
      ]
    }
  ]
}